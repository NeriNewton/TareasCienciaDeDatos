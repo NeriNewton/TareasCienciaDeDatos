{
 "cells": [
  {
   "cell_type": "markdown",
   "metadata": {},
   "source": [
    "## Tarea 1: Repaso de los conceptos básicos de Python\n",
    "### Ciencia de datos para físicos: Facultad de ciencias, UNAM\n",
    "#### Profesores: Karen Rubí Jiménez-López, Pedro Arturo Flores-Silva\n",
    "\n",
    "**Instrucciones:** Este notebook contiene una serie de ejercicios que deben ser resueltos. Cada ejercicio se encuentra en una celda, ya sea de código o Markdown. Debes crear una o dos *celdas debajo de cada ejercicio* con tu(s) respectiva(s) respuestas. No modifiques las celdas originales.\n",
    "\n",
    "Recuerda que para ejecutar el código de una celda, presionar `Ctlr + Enter` o bien el boton de `play` en el editor Jupyter notebook.\n",
    "\n",
    "Cada ejercicio tendrá diferente valor, y se indicará en la celda de éste. La calificación final será la suma de los puntos obtenidos en cada ejercicio. Se calificará considerando la calidad de la respuesta, la claridad de la explicación y la correctitud del código. Por ejemplo, si el código no ejecuta la respuesta correcta pero se da una idea textual, se demuestra que hay comprensión del problema y el código hace sentido para el revisor, se otorgará una calificación parcial. Esto es, las respuestas no solo se evaluarán como bien o mal, sino que se considerará el esfuerzo.\n",
    "\n",
    "El codigo que realices debes comentarlo donde creas necesario, no vale no hacer ningún comentario. Recuerda que los comentarios son importantes para que el código sea legible y entendible, éstos se agregan con el símbolo #. Para las funciones y/o clases que crees, agrega la documentación correspondiente (docstring), éste se agrega con `\"\"\" docstring \"\"\"`."
   ]
  },
  {
   "cell_type": "markdown",
   "metadata": {},
   "source": [
    "### Ejercicio 1 (1 punto):\n",
    "En una celda Markdown contesta: \n",
    "* ¿Qué es una palabra reservada en python? Enlista 5 ejemplos de nombres reservados en python y describe su función.\n",
    "* Coloca tres ejemplos de nombres de variables que no son válidos en python. Explica por qué no son válidos."
   ]
  },
  {
   "cell_type": "markdown",
   "metadata": {},
   "source": [
    "* Las palabras reservadas en python son un conjunto de caracteres que designan la llamada de una acción especial y predefinida dentro del lenguaje. Algunas de estas palabras son NONE, False, True, for y pass.\n",
    "\n",
    "\n",
    "* Un nombre inválido para una variable es -mau, debido a que el símbolo - es un operador y la definición no se ejecuta. Un segundo ejemplo es def, no podemos definir def = 2 debido a que esta es una palabra reservada y ya tiene una asignación. Un tercer ejemplo es + = 1, nuevamente estamos usando un operador.\n",
    "\n"
   ]
  },
  {
   "cell_type": "markdown",
   "metadata": {},
   "source": [
    "### Ejercicio 2 (1 punto):\n",
    "\n",
    "En una celda de código, escribe una función que encuentre las raíces de cualquier polinomio de segundo grado (implementar la chicharronera). En una celda markdown detalla posibles casos en la cual la función podría fallar.\n",
    "Usa dicha función para encontrar las raíces del polinomio $f(x) = 10x^2 - 2x$ e imprimelas en pantalla."
   ]
  },
  {
   "cell_type": "code",
   "execution_count": 47,
   "metadata": {},
   "outputs": [
    {
     "name": "stdout",
     "output_type": "stream",
     "text": [
      "Las raíces son reales y distintas\n",
      "0.2\n",
      "0.0\n"
     ]
    }
   ],
   "source": [
    "#Este programa resuelve ecuaciones de segundo grado del estilo Ax^2 + Bx + C.\n",
    "\n",
    "import math \n",
    "  \n",
    "#Definimos la función para los parámetros a, b y c de la ecuación.\n",
    "\n",
    "def raices(a,b,c): \n",
    "\n",
    "#El método busca usar el discriminante para aplicar una de tres condiciones.\n",
    "  \n",
    "  d=b**2-4*a*c \n",
    "\n",
    "#usamos la función de raíces de la librería.  \n",
    "  \n",
    "  ra=math.sqrt(abs(d)) \n",
    "      \n",
    "  #Probamos la naturaleza del discriminante\n",
    "\n",
    "  if d>0:\n",
    "    print(\"Las raíces son reales y distintas\") \n",
    "    print((-b+ra)/(2*a)) \n",
    "    print((-b-ra)/(2*a)) \n",
    "      \n",
    "  elif d<0: \n",
    "    print(\"Raíces complejas\") \n",
    "    print(-b/(2*a), \" +i\",ra) \n",
    "    print(-b/(2*a), \" -i\",ra)       \n",
    "  #Tomando el caso en que d<0\n",
    "  \n",
    "  else:\n",
    "    print(\"Las raíces son reales y son iguales\") \n",
    "    print(-b/(2*a)) \n",
    "\n",
    "    \n",
    "#Definimos los valores del polinomio a resolver f(x) = 10x^2 - 2x\n",
    "\n",
    "a = 10\n",
    "b = -2\n",
    "c = 0\n",
    "\n",
    "#imprimimos las raíces.\n",
    "\n",
    "raices(a, b, c)"
   ]
  },
  {
   "cell_type": "markdown",
   "metadata": {},
   "source": [
    "Para este problema podemos encontrar las raíces reales y complejas de los tres tipos de discriminantes, sin embargo, si A = 0 la función caerá en un error debido a la división entre a de las definiciones."
   ]
  },
  {
   "cell_type": "markdown",
   "metadata": {},
   "source": [
    "### Ejercicio 3 (1 punto):\n",
    "\n",
    "*Caida libre*: El gran Galileo Galilei subió la torre de Pisa para determinar el tiempo que tarda un objeto en caer desde una altura $H$ al suelo. Para ello, colocó un objeto de masa $m=100$ kg en la torre y lo dejó caer. El tiempo que tardó en caer fue $t=0.05616667$ minutos.\n",
    "\n",
    "Considerando que la aceleración de la gravedad es $g=9.8$ $\\frac{m}{s^2}$, escribe un programa que determine la altura de la torre de Pisa. El programa debe imprimir la altura en la pantalla.\n",
    "\n",
    "Recuerda que el movimiento de caída libre simplificado cumple la ecuación: $y(t) = H + vt - \\frac{1}{2}gt^2$."
   ]
  },
  {
   "cell_type": "code",
   "execution_count": 63,
   "metadata": {},
   "outputs": [
    {
     "name": "stdout",
     "output_type": "stream",
     "text": [
      "La altura de la torre de Pisa es de aproximadamente 56 m\n",
      "\n",
      "La altura de la torre de Pisa es de aproximadamente 55.70560111194022 m\n"
     ]
    }
   ],
   "source": [
    "#Definimos el valor de la aceleración.\n",
    "g=9.81\n",
    "\n",
    "#Establecemos el valor del tiempo en segundos\n",
    "t=0.05616667*60\n",
    "\n",
    "#La velocidad en caída libre al tiempo t es solo g*t\n",
    "v=g*t\n",
    "\n",
    "#Cuando el objeto alcanza el suelo y(t) = 0 y por tanto igualamos H = v*t -0.5*g*t (tomando el sistema de referencia con la altura positiva)\n",
    "H = -0.5*g*t**2+v*t\n",
    "\n",
    "#Imprimimos el resultado en metros redondeado al número más cercano por arriba.\n",
    "\n",
    "print('La altura de la torre de Pisa es de aproximadamente', round(H),'m')\n",
    "\n",
    "#Imprimimos el resultado sin redondeo\n",
    "print()\n",
    "print('La altura de la torre de Pisa es de aproximadamente', H,'m')"
   ]
  },
  {
   "cell_type": "markdown",
   "metadata": {},
   "source": [
    "### Ejercicio 4 (1 punto):\n",
    "Crea una lista de números enteros del 0 al 99 : `lista = [0,1, 2, 3, 4, ... , 95, 96, 97, 98, 99]` (6 puntos menos si creas la lista manualmente).\n",
    " \n",
    "Escribe un programa que imprima en la pantalla una la lista que cumpla con las siguientes condiciones:\n",
    "* Los ultimos 10 elementos: debe imprimir lo siguiente `[90, 91, 92, 93, 94, 95, 96, 97, 98, 99]`.\n",
    "* Los primeros 11 elementos: debe imprimir lo siguiente `[0, 1, 2, 3, 4, 5, 6, 7, 8, 9, 10]`.\n",
    "* La serie de elementos de la lista que están entre 60 y 75: debe imprimir lo siguiente `[60, 61, 62, 63, 64, 65, 66, 67, 68, 69, 70, 71, 72, 73, 74, 75]`.\n",
    "* El número 50: debe imprimir lo siguiente `50`.\n",
    "\n",
    "Debes aplicar el concepto de *slicing* para resolver este ejercicio (notación de puntos `[:]`).\n",
    "\n",
    "Puntos menos si se crean listas nuevas para cada caso y/o se seleccionan manualmente los valores."
   ]
  },
  {
   "cell_type": "code",
   "execution_count": 41,
   "metadata": {},
   "outputs": [
    {
     "name": "stdout",
     "output_type": "stream",
     "text": [
      "Los últimos 10 valores son: [90, 91, 92, 93, 94, 95, 96, 97, 98, 99]\n",
      "\n",
      "Los primeros 11 valores son: [0, 1, 2, 3, 4, 5, 6, 7, 8, 9, 10]\n",
      "\n",
      "Los valores solicitados son: [60, 61, 62, 63, 64, 65, 66, 67, 68, 69, 70, 71, 72, 73, 74, 75]\n",
      "\n",
      "El número requerido es: 50\n"
     ]
    }
   ],
   "source": [
    "#Creamos la lista desde 0 a 99\n",
    "l9=list(range(0,100))\n",
    "\n",
    "#Imprimimos los últimos valoes\n",
    "print('Los últimos 10 valores son:',l9[-10:])\n",
    "print()\n",
    "\n",
    "#Imprimimos los primeros valores\n",
    "print('Los primeros 11 valores son:',l9[:11])\n",
    "print()\n",
    "\n",
    "#Tomamos los valores entre 60 y 75\n",
    "print('Los valores solicitados son:',l9[60:76])\n",
    "print()\n",
    "\n",
    "#Seleccionamos el número 50\n",
    "print('El número requerido es:',l9[50:][0])"
   ]
  },
  {
   "cell_type": "markdown",
   "metadata": {},
   "source": [
    "### Ejercicio 5 (1 punto):\n",
    "Crea una lista de números enteros del 0 al 1000. A partir de dicha lista:\n",
    "* Guarda en una variable una lista con los números pares usando ciclos y condicionales. Imprime los últimos 10 elementos de la lista final.\n",
    "* Guarda en una variable una lista con los números impares usando listas comprensivas (comprehension list). Imprime los primeros 10 elementos de la lista final."
   ]
  },
  {
   "cell_type": "code",
   "execution_count": 59,
   "metadata": {},
   "outputs": [
    {
     "name": "stdout",
     "output_type": "stream",
     "text": [
      "[982, 984, 986, 988, 990, 992, 994, 996, 998, 1000]\n",
      "\n",
      "[1, 3, 5, 7, 9, 11, 13, 15, 17, 19]\n"
     ]
    }
   ],
   "source": [
    "#Creamos la lista\n",
    "l1=list(range(0,1001))\n",
    "\n",
    "#Definimos una lista a la cual le agregaremos los números pares usando el ciclo for y la función append\n",
    "pares=[]\n",
    "for i in l1:\n",
    "  if i % 2 == 0: #Usando el módulo.\n",
    "    pares.append(i)\n",
    "#Imprimimos los últimos términos pares.    \n",
    "print(pares[-10:])\n",
    "\n",
    "#Creamos la lista de impares usando la negación con el modulo igual a cero.\n",
    "impares=[x for x in l1 if x%2 != 0]\n",
    "\n",
    "#Imprimimos los primeros 10 elementos\n",
    "print()\n",
    "print(impares[:10])"
   ]
  },
  {
   "cell_type": "markdown",
   "metadata": {},
   "source": [
    "### Ejercicio 6 (2 puntos): Aproximación de $\\pi$\n",
    "Una de las formas más sencillas de aproximar $\\pi$ es mediante la siguiente serie infinita de Leibniz:\n",
    "$$\\frac{\\pi}{4} = \\sum_{n=0}^{\\infty}\\frac{(-1)^{n}}{(2n+1)} = \\frac{1}{1} - \\frac{1}{3} + \\frac{1}{5}-\\frac{1}{7}+\\frac{1}{9}-...$$\n",
    "\n",
    "crea una función para aproximar $\\pi$ utilizando la serie de Leibniz. Usa n = 100000 e imprime el valor de tu aproximación tanto el valor de $\\frac{\\pi}{4}$ como $\\pi$.\n",
    "\n",
    "El valor de $\\pi$ se obtiene al despejar:\n",
    "$$\\pi = 4 * \\left(\\sum_{n=0}^{\\infty}\\frac{(-1)^{n}}{(2n+1)} \\right)$$\n",
    "\n",
    "La siguiente celda de codigo ofrece el valor de $\\frac{\\pi}{4}$"
   ]
  },
  {
   "cell_type": "code",
   "execution_count": 1,
   "metadata": {},
   "outputs": [
    {
     "name": "stdout",
     "output_type": "stream",
     "text": [
      "El valor de pi/4 es aproximadamente 0.7853981633974483\n"
     ]
    }
   ],
   "source": [
    "import numpy as np\n",
    "#El valor de pi/4\n",
    "print(\"El valor de pi/4 es aproximadamente {}\".format(np.pi/4))"
   ]
  },
  {
   "cell_type": "code",
   "execution_count": 78,
   "metadata": {},
   "outputs": [
    {
     "name": "stdout",
     "output_type": "stream",
     "text": [
      "El valor de pi/4 es aproximadamente 0.7853956633974299\n",
      "\n",
      "El valor de pi es aproximadamente 3.1415826535897198\n"
     ]
    }
   ],
   "source": [
    "#Comenzando por el denominador d=1 y con la suma s=0\n",
    "d = 1\n",
    "s = 0\n",
    "\n",
    "#Tomamos la suma hasta el término 100000.\n",
    "for i in range(100000):\n",
    " \n",
    "    # Ya que la paridad define el signo basta con sumar en positivo o negativo según la paridad del término de la suma\n",
    "    if i%2 == 0:\n",
    "        s+=1/d\n",
    "    else:\n",
    "        s-=1/d\n",
    "    d+=2 #sumando sobre el denominador impar\n",
    "    \n",
    "#Imprimimos el valor de pi/4\n",
    "print('El valor de pi/4 es aproximadamente',s)\n",
    "\n",
    "#Imprimimos el valor de pi\n",
    "print()\n",
    "print('El valor de pi es aproximadamente',4*s)"
   ]
  },
  {
   "cell_type": "markdown",
   "metadata": {},
   "source": [
    "### Ejercicio 7 (1 puntos): Identificador de vocales\n",
    "\n",
    "Escribe una función que reciba una cadena, por ejemplo 'el pErro de la tiA chOnita' y regrese la cantidad de vocales que contiene. La función debe contener varios casos de prueba, if, elif y else. Con la cadena de ejemplo, imprime en pantalla el resultado de la función (10).\n",
    "\n",
    "Para conocer si un caracter es una vocal, primero debes descomponer la cadena en caracteres individuales. Para ello observa el siguiente código:"
   ]
  },
  {
   "cell_type": "code",
   "execution_count": 6,
   "metadata": {},
   "outputs": [
    {
     "name": "stdout",
     "output_type": "stream",
     "text": [
      "['e', 'l', ' ', 'p', 'e', 'r', 'r', 'o', ' ', 'd', 'e', ' ', 'l', 'a', ' ', 't', 'i', 'a', ' ', 'c', 'h', 'o', 'n', 'i', 't', 'a']\n"
     ]
    }
   ],
   "source": [
    "# Divide una cadena en caracteres individuales\n",
    "cadena_prueba = 'el pErro de la tiA chOnita'\n",
    "caracteres_individuales = list(cadena_prueba)\n",
    "print(caracteres_individuales)"
   ]
  },
  {
   "cell_type": "code",
   "execution_count": 114,
   "metadata": {},
   "outputs": [
    {
     "name": "stdout",
     "output_type": "stream",
     "text": [
      "La cantidad de vocales en la cadena solicitada es:  10\n"
     ]
    }
   ],
   "source": [
    "#Definimos la función y su argumento como una variable str.\n",
    "def vocales(a:str):\n",
    "\n",
    "#Se define el número de vocales nv en 0.\n",
    "    nv = 0\n",
    "\n",
    "#Definimos listas de comparación con vocales minúsculas vo y mayúsculas Mv\n",
    "    vo=[\"a\", \"e\", \"i\", \"o\", \"u\"]\n",
    "    Mv=['A','E','I','O','U']\n",
    "#Tomamos un for en el conjunto de letras de la cadena a y lo comparamos con las listas, si el elemento i de a está en vo se suma 1 a nv y si está en Mv se suma 1 a nv.\n",
    "    for i in range(len(a)):\n",
    "        if a[i] in vo:\n",
    "            nv+= 1\n",
    "        elif a[i] in Mv:\n",
    "            nv+= 1\n",
    "    print(\"La cantidad de vocales en la cadena solicitada es: \", nv) \n",
    "\n",
    "vocales('el pErro de la tiA chOnita')"
   ]
  },
  {
   "cell_type": "markdown",
   "metadata": {},
   "source": [
    "### Ejercicio 8 (2 puntos):\n",
    "\n",
    "Escribe una clase \"calculadora\" que regrese el resultado de las operaciones de suma, resta, multiplicacion, division, modulo y potencia. La clase debe contener un método para cada operación.\n",
    "\n",
    "Los métodos que pudiesen presentar errores como division entre cero, deben ser manejados de tal manera que el programa no imprima ningun error (vimos una clausula para hacer esto).\n",
    "\n",
    "Adicional a esto, los métodos modulo y potencia deben ser generales, es decir, deben funcionar para cualquier número entero positivo (es un parámetro extra del método). Por ejemplo, la potencia de 2 elevado a 3 es 8, la potencia de 5 elevado a 3 es 125, etc.\n",
    "\n",
    "Crea una instancia de la clase calculadora y prueba cada uno de los métodos, con valores de tu elección. Para los métodos que pudiesen presentar errores da dos ejemplos, uno totalmente funcional (3/5 por ejemplo) y otro que sea conflictivo pero que no regresa ningún error (4/0 por ejemplo)."
   ]
  },
  {
   "cell_type": "code",
   "execution_count": 10,
   "metadata": {},
   "outputs": [
    {
     "name": "stdout",
     "output_type": "stream",
     "text": [
      "Primer número: 5\n",
      "Segundo número: 2\n",
      "0.- Salir de la calculadora\n",
      "\n",
      "1.- Suma\n",
      "\n",
      "2.- Resta\n",
      "\n",
      "3.- Multiplicación\n",
      "\n",
      "4.- División\n",
      "\n",
      "5.- Exponente a**b\n",
      "\n",
      "6.- Módulo a%b\n",
      "\n",
      "Seleccione una operación: 1\n",
      "\n",
      "Resultado:  7\n",
      "\n",
      "Primer número: 6\n",
      "Segundo número: 4\n",
      "0.- Salir de la calculadora\n",
      "\n",
      "1.- Suma\n",
      "\n",
      "2.- Resta\n",
      "\n",
      "3.- Multiplicación\n",
      "\n",
      "4.- División\n",
      "\n",
      "5.- Exponente a**b\n",
      "\n",
      "6.- Módulo a%b\n",
      "\n",
      "Seleccione una operación: 2\n",
      "\n",
      "Resultado:  2\n",
      "\n",
      "Primer número: 6\n",
      "Segundo número: 8\n",
      "0.- Salir de la calculadora\n",
      "\n",
      "1.- Suma\n",
      "\n",
      "2.- Resta\n",
      "\n",
      "3.- Multiplicación\n",
      "\n",
      "4.- División\n",
      "\n",
      "5.- Exponente a**b\n",
      "\n",
      "6.- Módulo a%b\n",
      "\n",
      "Seleccione una operación: 3\n",
      "\n",
      "Resultado:  48\n",
      "\n",
      "Primer número: 5\n",
      "Segundo número: 0\n",
      "0.- Salir de la calculadora\n",
      "\n",
      "1.- Suma\n",
      "\n",
      "2.- Resta\n",
      "\n",
      "3.- Multiplicación\n",
      "\n",
      "4.- División\n",
      "\n",
      "5.- Exponente a**b\n",
      "\n",
      "6.- Módulo a%b\n",
      "\n",
      "Seleccione una operación: 4\n",
      "\n",
      "Resultado:  División entre cero\n",
      "\n",
      "Primer número: 80\n",
      "Segundo número: 4\n",
      "0.- Salir de la calculadora\n",
      "\n",
      "1.- Suma\n",
      "\n",
      "2.- Resta\n",
      "\n",
      "3.- Multiplicación\n",
      "\n",
      "4.- División\n",
      "\n",
      "5.- Exponente a**b\n",
      "\n",
      "6.- Módulo a%b\n",
      "\n",
      "Seleccione una operación: 4\n",
      "\n",
      "Resultado:  20.0\n",
      "\n",
      "Primer número: 2\n",
      "Segundo número: 8\n",
      "0.- Salir de la calculadora\n",
      "\n",
      "1.- Suma\n",
      "\n",
      "2.- Resta\n",
      "\n",
      "3.- Multiplicación\n",
      "\n",
      "4.- División\n",
      "\n",
      "5.- Exponente a**b\n",
      "\n",
      "6.- Módulo a%b\n",
      "\n",
      "Seleccione una operación: 5\n",
      "\n",
      "Resultado:  256\n",
      "\n",
      "Primer número: 5\n",
      "Segundo número: 0\n",
      "0.- Salir de la calculadora\n",
      "\n",
      "1.- Suma\n",
      "\n",
      "2.- Resta\n",
      "\n",
      "3.- Multiplicación\n",
      "\n",
      "4.- División\n",
      "\n",
      "5.- Exponente a**b\n",
      "\n",
      "6.- Módulo a%b\n",
      "\n",
      "Seleccione una operación: 6\n",
      "\n",
      "Resultado:  Módulo por cero\n",
      "\n",
      "Primer número: 90\n",
      "Segundo número: 2\n",
      "0.- Salir de la calculadora\n",
      "\n",
      "1.- Suma\n",
      "\n",
      "2.- Resta\n",
      "\n",
      "3.- Multiplicación\n",
      "\n",
      "4.- División\n",
      "\n",
      "5.- Exponente a**b\n",
      "\n",
      "6.- Módulo a%b\n",
      "\n",
      "Seleccione una operación: 6\n",
      "\n",
      "Resultado:  0\n",
      "\n",
      "Primer número: 1\n",
      "Segundo número: 1\n",
      "0.- Salir de la calculadora\n",
      "\n",
      "1.- Suma\n",
      "\n",
      "2.- Resta\n",
      "\n",
      "3.- Multiplicación\n",
      "\n",
      "4.- División\n",
      "\n",
      "5.- Exponente a**b\n",
      "\n",
      "6.- Módulo a%b\n",
      "\n",
      "Seleccione una operación: 0\n",
      "\n",
      "Saliendo\n",
      "\n"
     ]
    }
   ],
   "source": [
    "#Comezamos la clase para los objetos a, b.\n",
    "class cal():\n",
    "    def __init__(s,a,b): #Definimos los objetos para las operaciones.\n",
    "        s.a=a\n",
    "        s.b=b\n",
    "    def su(s): #Definición de la suma.\n",
    "        return s.a+s.b\n",
    "    def res(s): #Definición de la resta.\n",
    "        return s.a-s.b\n",
    "    def mul(s): #Definición de la multiplicación.\n",
    "        return s.a*s.b\n",
    "    def div(s): #Definimos la división\n",
    "        if s.b!=0:\n",
    "         return s.a/s.b\n",
    "        else:\n",
    "         return 'División entre cero' #Cuidando de la división entre 0.\n",
    "    def exp(s): #Definición de la potencia.\n",
    "        return s.a**s.b\n",
    "    def mod(s): #Definimos el módulo\n",
    "        if s.b!=0:\n",
    "         return s.a%s.b\n",
    "        else:\n",
    "         return 'Módulo por cero' #Cuidando que no se saque un modulo a cero.\n",
    "elec=1 #Iniciamos la calculadora\n",
    "while elec!=0: #Seguirá funcionando hasta que seleccionemos 0.\n",
    "    a=int(input(\"Primer número: \")) #Le pedimos al usuario que ingrese los números.\n",
    "    b=int(input(\"Segundo número: \"))\n",
    "    obj=cal(a,b) #le damos a la clase los valores en cada ciclo\n",
    "    print(\"0.- Salir de la calculadora\") #Imprimimos las opciones disponibles.\n",
    "    print()\n",
    "    print(\"1.- Suma\")\n",
    "    print()\n",
    "    print(\"2.- Resta\")\n",
    "    print()\n",
    "    print(\"3.- Multiplicación\")\n",
    "    print()\n",
    "    print(\"4.- División\")\n",
    "    print()\n",
    "    print(\"5.- Exponente a**b\")\n",
    "    print()\n",
    "    print(\"6.- Módulo a%b\")\n",
    "    print()\n",
    "    elec=int(input(\"Seleccione una operación: \")) #Pedimos que se seleccione una operación.\n",
    "    print()\n",
    "    if elec==1: #Llamamos a la operación seleccionada e imprimimos el resultado.\n",
    "        print(\"Resultado: \",obj.su())\n",
    "        print()\n",
    "    elif elec==2:\n",
    "        print(\"Resultado: \",obj.res())\n",
    "        print()\n",
    "    elif elec==3:\n",
    "        print(\"Resultado: \",obj.mul())\n",
    "        print()\n",
    "    elif elec==4:\n",
    "        print(\"Resultado: \",obj.div())\n",
    "        print()\n",
    "    elif elec==5:\n",
    "        print(\"Resultado: \",obj.exp())\n",
    "        print()\n",
    "    elif elec==6:\n",
    "        print(\"Resultado: \",obj.mod())\n",
    "        print()\n",
    "    elif elec==0:\n",
    "        print(\"Saliendo\")\n",
    "        print()\n",
    "    else:\n",
    "        print('Opción inválida')\n",
    "        print()"
   ]
  },
  {
   "cell_type": "markdown",
   "metadata": {},
   "source": [
    "### Ejercicio de puntos extras opcional (1 punto):\n",
    "\n",
    "Supóngamos que tenemos una lista de números enteros y queremos encontrar el número más grande. Por ejemplo, si la lista es `[1, 2, 3, 4, 5]` el número más grande es 5. Crea una función que encuentre el número más grande en una lista de números. La función debe regresar el número más grande y el índice en el que se encuentra. Prueba la función con una lista de números de tu elección."
   ]
  },
  {
   "cell_type": "code",
   "execution_count": 39,
   "metadata": {},
   "outputs": [
    {
     "name": "stdout",
     "output_type": "stream",
     "text": [
      "El número más grande en la lista es 21212131148872156706844 y está ubicado en la posición 56\n"
     ]
    }
   ],
   "source": [
    "#Definimos la función con argumento a (Es una lista de números)\n",
    "def numg(a):\n",
    "    M = a[0] #Tomamos el primer número de la lista\n",
    "    for i in a: \n",
    "        if i > M: # Comparamos cada número de la lista contra cada elemento de la misma, hasta encontrar el más grande\n",
    "            M = i\n",
    "    print('El número más grande en la lista es',M,'y está ubicado en la posición',a.index(M))\n",
    "\n",
    "numg([50044,5468,768,4,564,87,4,4,687,545,7487,54,657,765,47,54,5,487,8,654,654,564,56,46,545,4,654654654564,54,50544,54,654,654,654564654654564,4,54,64,65,465,456,465,456,4,685,4654211945641,87,987,98,12,231,244,1,234,8712,1,21,21,21212131148872156706844,4068,6,4574,9])"
   ]
  },
  {
   "cell_type": "markdown",
   "metadata": {},
   "source": [
    "### Ejercicio de puntos extras opcional (3 puntos):\n",
    "\n",
    "Supóngamos que tenemos un dado convencional de 6 caras. Crea una función que simule el lanzamiento de un dado. La función debe regresar un número aleatorio entre 1 y 6.\n",
    "\n",
    "Sabemos que la probabilidad de que salga un número es de $\\frac{1}{6}$, es decir, la probabilidad de que salga un 1 es de $\\frac{1}{6}$, la probabilidad de que salga un 2 es de $\\frac{1}{6}$, etc.\n",
    "\n",
    "* Prueba la función con 6 lanzamientos, en una celda markdown explica porqué el resultado es dificilmente [1, 2, 3, 4, 5, 6].\n",
    "\n",
    "* Prueba la función con 1000 lanzamientos, crea una grafica de barras de los resultados (investiga como puedes graficar los resultados en una grafica de barras) y explica a que distribucion se parece y porqué es así.\n",
    "\n",
    "Hint: Para crear los números aleatorios, puedes usar la función `random.randint()`. O bien, usar el modulo numpy para crearlos. Para graficar los resultados, puedes usar la libreria matplotlib, seaborn, plotly o cualquiera que se te haga más fácil."
   ]
  },
  {
   "cell_type": "code",
   "execution_count": 104,
   "metadata": {},
   "outputs": [
    {
     "name": "stdout",
     "output_type": "stream",
     "text": [
      "[3, 5, 1, 4, 1, 6]\n",
      "\n"
     ]
    },
    {
     "data": {
      "image/png": "[encoded data removed]",
      "text/plain": [
       "<Figure size 504x252 with 1 Axes>"
      ]
     },
     "metadata": {
      "needs_background": "light"
     },
     "output_type": "display_data"
    },
    {
     "data": {
      "image/png": "[encoded data removed]",
      "text/plain": [
       "<Figure size 504x252 with 1 Axes>"
      ]
     },
     "metadata": {
      "needs_background": "light"
     },
     "output_type": "display_data"
    },
    {
     "data": {
      "image/png": "[encoded data removed]",
      "text/plain": [
       "<Figure size 504x252 with 1 Axes>"
      ]
     },
     "metadata": {
      "needs_background": "light"
     },
     "output_type": "display_data"
    }
   ],
   "source": [
    "#Importamos las librerías\n",
    "import random\n",
    "import matplotlib.pyplot as plt\n",
    "\n",
    "#Tiramos 6 veces el dado e imprimimos los resultados.\n",
    "print([random.randint(1,6) for i in range(6)])\n",
    "print()\n",
    "\n",
    "#Creamos tres listas, dos tiradas de dados repitiendo 1000 veces la tirada y una tercera con la suma de las dos anteriores.\n",
    "D1=[random.randint(1,6) for i in range(100000)]\n",
    "\n",
    "D2=[random.randint(1,6) for i in range(100000)]\n",
    "\n",
    "Dt= [D1[x] + D2[x] for x in range (len (D1))]  \n",
    "\n",
    "#Graficamos cada grupo de datos.\n",
    "plt.hist(D1)\n",
    "plt.show()\n",
    "\n",
    "plt.hist(D2)\n",
    "plt.show()\n",
    "\n",
    "plt.hist(Dt)\n",
    "plt.show()"
   ]
  },
  {
   "cell_type": "markdown",
   "metadata": {},
   "source": [
    "Para sacar una cadena de valores específicos después de 6 tiros es necesario que cada tiro tenga el número requerido, cada uno de estos números tiene una probabilidad en cada tiro de 1/6, por esto la probabilidad después de 6 tiros es (1/6)^6 o 0.00002%.\n",
    "\n",
    "Ahora, notamos que en las gráficas de los tiros se nota una \"igualdad\" entre las alturas de las celdas, este es un indicador de que la distribución es uniforme y claro que debe serlo, cada número tiene la misma probabilidad de salir (1/6). Un caso más interesante es aquel que ocurre cuando tiramos dos dados y sumamos el valor de cada uno, este proceso nos hace obtener una distribución triangular, que no debe confundirse con la distribución normal o binomial."
   ]
  }
 ],
 "metadata": {
  "kernelspec": {
   "display_name": "Python 3",
   "language": "python",
   "name": "python3"
  },
  "language_info": {
   "codemirror_mode": {
    "name": "ipython",
    "version": 3
   },
   "file_extension": ".py",
   "mimetype": "text/x-python",
   "name": "python",
   "nbconvert_exporter": "python",
   "pygments_lexer": "ipython3",
   "version": "3.8.5"
  },
  "vscode": {
   "interpreter": {
    "hash": "ad2bdc8ecc057115af97d19610ffacc2b4e99fae6737bb82f5d7fb13d2f2c186"
   }
  }
 },
 "nbformat": 4,
 "nbformat_minor": 5
}
